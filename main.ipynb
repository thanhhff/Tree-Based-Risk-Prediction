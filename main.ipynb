{
 "cells": [
  {
   "cell_type": "code",
   "execution_count": 21,
   "metadata": {},
   "outputs": [],
   "source": [
    "from utils import load_data_from_csv, c_index\n",
    "from sklearn.model_selection import train_test_split \n",
    "from sklearn import tree\n",
    "from sklearn.tree import DecisionTreeClassifier\n",
    "from sklearn.ensemble import RandomForestClassifier\n",
    "import seaborn as sns\n",
    "import matplotlib.pyplot as plt\n",
    "import random"
   ]
  },
  {
   "cell_type": "markdown",
   "metadata": {},
   "source": [
    "# Load dataset"
   ]
  },
  {
   "cell_type": "code",
   "execution_count": 2,
   "metadata": {},
   "outputs": [],
   "source": [
    "X_train_org, X_test, y_train_org, y_test = load_data_from_csv(threshold=10, test_size=0.2)"
   ]
  },
  {
   "cell_type": "code",
   "execution_count": 3,
   "metadata": {},
   "outputs": [
    {
     "name": "stdout",
     "output_type": "stream",
     "text": [
      "X_train shape: (6863, 18)\n",
      "X_test shape: (1716, 18)\n"
     ]
    }
   ],
   "source": [
    "print(\"X_train shape:\", X_train_org.shape)\n",
    "print(\"X_test shape:\", X_test.shape)"
   ]
  },
  {
   "cell_type": "markdown",
   "metadata": {},
   "source": [
    "Split to X_train / X_val (75% - 25% of X_train data)"
   ]
  },
  {
   "cell_type": "code",
   "execution_count": 4,
   "metadata": {},
   "outputs": [],
   "source": [
    "X_train, X_val, y_train, y_val = train_test_split(X_train_org, y_train_org, test_size=0.25, random_state=42)"
   ]
  },
  {
   "cell_type": "code",
   "execution_count": 5,
   "metadata": {},
   "outputs": [
    {
     "name": "stdout",
     "output_type": "stream",
     "text": [
      "X_train shape: (5147, 18)\n",
      "X_val shape: (1716, 18)\n",
      "X_test shape: (1716, 18)\n"
     ]
    }
   ],
   "source": [
    "print(\"X_train shape:\", X_train.shape)\n",
    "print(\"X_val shape:\", X_val.shape)\n",
    "print(\"X_test shape:\", X_test.shape)"
   ]
  },
  {
   "cell_type": "markdown",
   "metadata": {},
   "source": [
    "Show information of X_train"
   ]
  },
  {
   "cell_type": "code",
   "execution_count": 6,
   "metadata": {},
   "outputs": [
    {
     "data": {
      "text/html": [
       "<div>\n",
       "<style scoped>\n",
       "    .dataframe tbody tr th:only-of-type {\n",
       "        vertical-align: middle;\n",
       "    }\n",
       "\n",
       "    .dataframe tbody tr th {\n",
       "        vertical-align: top;\n",
       "    }\n",
       "\n",
       "    .dataframe thead th {\n",
       "        text-align: right;\n",
       "    }\n",
       "</style>\n",
       "<table border=\"1\" class=\"dataframe\">\n",
       "  <thead>\n",
       "    <tr style=\"text-align: right;\">\n",
       "      <th></th>\n",
       "      <th>Age</th>\n",
       "      <th>Diastolic BP</th>\n",
       "      <th>Poverty index</th>\n",
       "      <th>Race</th>\n",
       "      <th>Red blood cells</th>\n",
       "      <th>Sedimentation rate</th>\n",
       "      <th>Serum Albumin</th>\n",
       "      <th>Serum Cholesterol</th>\n",
       "      <th>Serum Iron</th>\n",
       "      <th>Serum Magnesium</th>\n",
       "      <th>Serum Protein</th>\n",
       "      <th>Sex</th>\n",
       "      <th>Systolic BP</th>\n",
       "      <th>TIBC</th>\n",
       "      <th>TS</th>\n",
       "      <th>White blood cells</th>\n",
       "      <th>BMI</th>\n",
       "      <th>Pulse pressure</th>\n",
       "    </tr>\n",
       "  </thead>\n",
       "  <tbody>\n",
       "    <tr>\n",
       "      <th>8559</th>\n",
       "      <td>67.0</td>\n",
       "      <td>88.0</td>\n",
       "      <td>351.0</td>\n",
       "      <td>1.0</td>\n",
       "      <td>48.5</td>\n",
       "      <td>7.0</td>\n",
       "      <td>4.1</td>\n",
       "      <td>227.0</td>\n",
       "      <td>152.0</td>\n",
       "      <td>1.52</td>\n",
       "      <td>6.6</td>\n",
       "      <td>1.0</td>\n",
       "      <td>156.0</td>\n",
       "      <td>326.0</td>\n",
       "      <td>46.6</td>\n",
       "      <td>9.8</td>\n",
       "      <td>31.267452</td>\n",
       "      <td>68.0</td>\n",
       "    </tr>\n",
       "    <tr>\n",
       "      <th>7348</th>\n",
       "      <td>34.0</td>\n",
       "      <td>100.0</td>\n",
       "      <td>999.0</td>\n",
       "      <td>2.0</td>\n",
       "      <td>44.4</td>\n",
       "      <td>19.0</td>\n",
       "      <td>3.7</td>\n",
       "      <td>297.0</td>\n",
       "      <td>143.0</td>\n",
       "      <td>1.86</td>\n",
       "      <td>6.8</td>\n",
       "      <td>1.0</td>\n",
       "      <td>150.0</td>\n",
       "      <td>399.0</td>\n",
       "      <td>35.8</td>\n",
       "      <td>5.6</td>\n",
       "      <td>25.113065</td>\n",
       "      <td>50.0</td>\n",
       "    </tr>\n",
       "    <tr>\n",
       "      <th>5056</th>\n",
       "      <td>39.0</td>\n",
       "      <td>94.0</td>\n",
       "      <td>999.0</td>\n",
       "      <td>1.0</td>\n",
       "      <td>49.7</td>\n",
       "      <td>11.0</td>\n",
       "      <td>4.3</td>\n",
       "      <td>213.0</td>\n",
       "      <td>62.0</td>\n",
       "      <td>1.68</td>\n",
       "      <td>7.4</td>\n",
       "      <td>1.0</td>\n",
       "      <td>158.0</td>\n",
       "      <td>343.0</td>\n",
       "      <td>18.1</td>\n",
       "      <td>8.6</td>\n",
       "      <td>26.533553</td>\n",
       "      <td>64.0</td>\n",
       "    </tr>\n",
       "    <tr>\n",
       "      <th>3655</th>\n",
       "      <td>39.0</td>\n",
       "      <td>85.0</td>\n",
       "      <td>59.0</td>\n",
       "      <td>1.0</td>\n",
       "      <td>49.2</td>\n",
       "      <td>23.0</td>\n",
       "      <td>4.5</td>\n",
       "      <td>235.0</td>\n",
       "      <td>61.0</td>\n",
       "      <td>1.67</td>\n",
       "      <td>7.4</td>\n",
       "      <td>2.0</td>\n",
       "      <td>130.0</td>\n",
       "      <td>319.0</td>\n",
       "      <td>19.1</td>\n",
       "      <td>9.8</td>\n",
       "      <td>32.807368</td>\n",
       "      <td>45.0</td>\n",
       "    </tr>\n",
       "    <tr>\n",
       "      <th>2048</th>\n",
       "      <td>33.0</td>\n",
       "      <td>82.0</td>\n",
       "      <td>168.0</td>\n",
       "      <td>2.0</td>\n",
       "      <td>77.7</td>\n",
       "      <td>31.0</td>\n",
       "      <td>4.7</td>\n",
       "      <td>275.0</td>\n",
       "      <td>75.0</td>\n",
       "      <td>1.90</td>\n",
       "      <td>7.9</td>\n",
       "      <td>1.0</td>\n",
       "      <td>126.0</td>\n",
       "      <td>320.0</td>\n",
       "      <td>23.4</td>\n",
       "      <td>9.4</td>\n",
       "      <td>30.366643</td>\n",
       "      <td>44.0</td>\n",
       "    </tr>\n",
       "  </tbody>\n",
       "</table>\n",
       "</div>"
      ],
      "text/plain": [
       "       Age  Diastolic BP  Poverty index  Race  Red blood cells  \\\n",
       "8559  67.0          88.0          351.0   1.0             48.5   \n",
       "7348  34.0         100.0          999.0   2.0             44.4   \n",
       "5056  39.0          94.0          999.0   1.0             49.7   \n",
       "3655  39.0          85.0           59.0   1.0             49.2   \n",
       "2048  33.0          82.0          168.0   2.0             77.7   \n",
       "\n",
       "      Sedimentation rate  Serum Albumin  Serum Cholesterol  Serum Iron  \\\n",
       "8559                 7.0            4.1              227.0       152.0   \n",
       "7348                19.0            3.7              297.0       143.0   \n",
       "5056                11.0            4.3              213.0        62.0   \n",
       "3655                23.0            4.5              235.0        61.0   \n",
       "2048                31.0            4.7              275.0        75.0   \n",
       "\n",
       "      Serum Magnesium  Serum Protein  Sex  Systolic BP   TIBC    TS  \\\n",
       "8559             1.52            6.6  1.0        156.0  326.0  46.6   \n",
       "7348             1.86            6.8  1.0        150.0  399.0  35.8   \n",
       "5056             1.68            7.4  1.0        158.0  343.0  18.1   \n",
       "3655             1.67            7.4  2.0        130.0  319.0  19.1   \n",
       "2048             1.90            7.9  1.0        126.0  320.0  23.4   \n",
       "\n",
       "      White blood cells        BMI  Pulse pressure  \n",
       "8559                9.8  31.267452            68.0  \n",
       "7348                5.6  25.113065            50.0  \n",
       "5056                8.6  26.533553            64.0  \n",
       "3655                9.8  32.807368            45.0  \n",
       "2048                9.4  30.366643            44.0  "
      ]
     },
     "execution_count": 6,
     "metadata": {},
     "output_type": "execute_result"
    }
   ],
   "source": [
    "X_train.head()"
   ]
  },
  {
   "cell_type": "markdown",
   "metadata": {},
   "source": [
    "Get random sample of X_train "
   ]
  },
  {
   "cell_type": "code",
   "execution_count": 7,
   "metadata": {},
   "outputs": [
    {
     "name": "stdout",
     "output_type": "stream",
     "text": [
      "Age                    41.000000\n",
      "Diastolic BP           66.000000\n",
      "Poverty index         233.000000\n",
      "Race                    1.000000\n",
      "Red blood cells        44.700000\n",
      "Sedimentation rate     10.000000\n",
      "Serum Albumin           4.500000\n",
      "Serum Cholesterol     172.000000\n",
      "Serum Iron            114.000000\n",
      "Serum Magnesium         1.850000\n",
      "Serum Protein           6.800000\n",
      "Sex                     2.000000\n",
      "Systolic BP           106.000000\n",
      "TIBC                  398.000000\n",
      "TS                     28.600000\n",
      "White blood cells       6.700000\n",
      "BMI                    23.942641\n",
      "Pulse pressure         40.000000\n",
      "Name: 8775, dtype: float64\n",
      "True\n"
     ]
    }
   ],
   "source": [
    "random_index = random.randint(0, len(X_train))\n",
    "print(X_train.iloc[random_index, :])\n",
    "print(y_train[random_index])"
   ]
  },
  {
   "cell_type": "markdown",
   "metadata": {},
   "source": [
    "# Check Data"
   ]
  },
  {
   "cell_type": "code",
   "execution_count": 8,
   "metadata": {},
   "outputs": [
    {
     "data": {
      "image/png": "[encoded data removed]",
      "text/plain": [
       "<Figure size 432x288 with 1 Axes>"
      ]
     },
     "metadata": {
      "needs_background": "light"
     },
     "output_type": "display_data"
    }
   ],
   "source": [
    "sns.heatmap(X_train.isnull(), cbar=False)\n",
    "plt.title(\"Training\")\n",
    "plt.show()"
   ]
  },
  {
   "cell_type": "markdown",
   "metadata": {},
   "source": [
    "# Decision Trees"
   ]
  },
  {
   "cell_type": "markdown",
   "metadata": {},
   "source": [
    "Without max_depth and min_samples_split"
   ]
  },
  {
   "cell_type": "code",
   "execution_count": 22,
   "metadata": {},
   "outputs": [
    {
     "data": {
      "text/plain": [
       "DecisionTreeClassifier(random_state=42)"
      ]
     },
     "execution_count": 22,
     "metadata": {},
     "output_type": "execute_result"
    }
   ],
   "source": [
    "dt_with_out_max_depth = DecisionTreeClassifier(max_depth=None, random_state=42)\n",
    "dt_with_out_max_depth.fit(X_train, y_train)"
   ]
  },
  {
   "cell_type": "code",
   "execution_count": 23,
   "metadata": {},
   "outputs": [],
   "source": [
    "y_train_preds = dt_with_out_max_depth.predict_proba(X_train)[:, 1]\n",
    "y_val_preds = dt_with_out_max_depth.predict_proba(X_val)[:, 1]"
   ]
  },
  {
   "cell_type": "code",
   "execution_count": 24,
   "metadata": {},
   "outputs": [
    {
     "name": "stdout",
     "output_type": "stream",
     "text": [
      "Train accuracy:  1.0\n",
      "Val accuracy:  0.5858987700932962\n"
     ]
    }
   ],
   "source": [
    "print(\"Train accuracy: \", c_index(y_train.values, y_train_preds))\n",
    "print(\"Val accuracy: \", c_index(y_val.values, y_val_preds))"
   ]
  },
  {
   "cell_type": "markdown",
   "metadata": {},
   "source": [
    "### Change hyper parameters to get better result"
   ]
  },
  {
   "cell_type": "code",
   "execution_count": 27,
   "metadata": {},
   "outputs": [],
   "source": [
    "decision_tree_hyperparams = {\n",
    "    'max_depth': 5,\n",
    "}"
   ]
  },
  {
   "cell_type": "code",
   "execution_count": 28,
   "metadata": {},
   "outputs": [
    {
     "name": "stdout",
     "output_type": "stream",
     "text": [
      "Train accuracy:  0.78137505804202\n",
      "Val accuracy:  0.7186187061499889\n"
     ]
    }
   ],
   "source": [
    "decision_tree_with_max_depth = DecisionTreeClassifier(**decision_tree_hyperparams, random_state=42)\n",
    "decision_tree_with_max_depth.fit(X_train, y_train)\n",
    "\n",
    "# validation\n",
    "y_train_preds = decision_tree_with_max_depth.predict_proba(X_train)[:, 1]\n",
    "y_val_preds = decision_tree_with_max_depth.predict_proba(X_val)[:, 1]\n",
    "\n",
    "# print\n",
    "print(\"Train accuracy: \", c_index(y_train.values, y_train_preds))\n",
    "print(\"Val accuracy: \", c_index(y_val.values, y_val_preds))"
   ]
  },
  {
   "cell_type": "code",
   "execution_count": 30,
   "metadata": {},
   "outputs": [
    {
     "data": {
      "text/plain": [
       "[Text(167.4, 199.32, 'X[0] <= 64.5\\ngini = 0.31\\nsamples = 5147\\nvalue = [4159, 988]'),\n",
       " Text(83.7, 163.07999999999998, 'X[2] <= 140.5\\ngini = 0.2\\nsamples = 3621\\nvalue = [3213, 408]'),\n",
       " Text(41.85, 126.83999999999999, 'X[11] <= 1.5\\ngini = 0.307\\nsamples = 754\\nvalue = [611, 143]'),\n",
       " Text(20.925, 90.6, 'X[0] <= 49.5\\ngini = 0.409\\nsamples = 209\\nvalue = [149, 60]'),\n",
       " Text(10.4625, 54.359999999999985, 'X[17] <= 31.0\\ngini = 0.314\\nsamples = 128\\nvalue = [103, 25]'),\n",
       " Text(5.23125, 18.119999999999976, 'gini = 0.498\\nsamples = 15\\nvalue = [7, 8]'),\n",
       " Text(15.693750000000001, 18.119999999999976, 'gini = 0.256\\nsamples = 113\\nvalue = [96, 17]'),\n",
       " Text(31.387500000000003, 54.359999999999985, 'X[2] <= 124.5\\ngini = 0.491\\nsamples = 81\\nvalue = [46, 35]'),\n",
       " Text(26.15625, 18.119999999999976, 'gini = 0.457\\nsamples = 68\\nvalue = [44, 24]'),\n",
       " Text(36.61875, 18.119999999999976, 'gini = 0.26\\nsamples = 13\\nvalue = [2, 11]'),\n",
       " Text(62.775000000000006, 90.6, 'X[1] <= 99.0\\ngini = 0.258\\nsamples = 545\\nvalue = [462, 83]'),\n",
       " Text(52.3125, 54.359999999999985, 'X[10] <= 5.7\\ngini = 0.224\\nsamples = 458\\nvalue = [399, 59]'),\n",
       " Text(47.081250000000004, 18.119999999999976, 'gini = 0.0\\nsamples = 2\\nvalue = [0, 2]'),\n",
       " Text(57.54375, 18.119999999999976, 'gini = 0.219\\nsamples = 456\\nvalue = [399, 57]'),\n",
       " Text(73.2375, 54.359999999999985, 'X[14] <= 13.55\\ngini = 0.4\\nsamples = 87\\nvalue = [63, 24]'),\n",
       " Text(68.00625000000001, 18.119999999999976, 'gini = 0.426\\nsamples = 13\\nvalue = [4, 9]'),\n",
       " Text(78.46875, 18.119999999999976, 'gini = 0.323\\nsamples = 74\\nvalue = [59, 15]'),\n",
       " Text(125.55000000000001, 126.83999999999999, 'X[0] <= 54.5\\ngini = 0.168\\nsamples = 2867\\nvalue = [2602, 265]'),\n",
       " Text(104.625, 90.6, 'X[0] <= 29.5\\ngini = 0.144\\nsamples = 2439\\nvalue = [2248, 191]'),\n",
       " Text(94.16250000000001, 54.359999999999985, 'X[12] <= 97.0\\ngini = 0.232\\nsamples = 591\\nvalue = [512, 79]'),\n",
       " Text(88.93125, 18.119999999999976, 'gini = 0.458\\nsamples = 31\\nvalue = [20, 11]'),\n",
       " Text(99.39375, 18.119999999999976, 'gini = 0.213\\nsamples = 560\\nvalue = [492, 68]'),\n",
       " Text(115.0875, 54.359999999999985, 'X[7] <= 95.0\\ngini = 0.114\\nsamples = 1848\\nvalue = [1736, 112]'),\n",
       " Text(109.85625, 18.119999999999976, 'gini = 0.0\\nsamples = 2\\nvalue = [0, 2]'),\n",
       " Text(120.31875000000001, 18.119999999999976, 'gini = 0.112\\nsamples = 1846\\nvalue = [1736, 110]'),\n",
       " Text(146.475, 90.6, 'X[11] <= 1.5\\ngini = 0.286\\nsamples = 428\\nvalue = [354, 74]'),\n",
       " Text(136.01250000000002, 54.359999999999985, 'X[6] <= 3.75\\ngini = 0.386\\nsamples = 207\\nvalue = [153, 54]'),\n",
       " Text(130.78125, 18.119999999999976, 'gini = 0.0\\nsamples = 6\\nvalue = [0, 6]'),\n",
       " Text(141.24375, 18.119999999999976, 'gini = 0.364\\nsamples = 201\\nvalue = [153, 48]'),\n",
       " Text(156.9375, 54.359999999999985, 'X[8] <= 61.5\\ngini = 0.165\\nsamples = 221\\nvalue = [201, 20]'),\n",
       " Text(151.70625, 18.119999999999976, 'gini = 0.498\\nsamples = 17\\nvalue = [9, 8]'),\n",
       " Text(162.16875000000002, 18.119999999999976, 'gini = 0.111\\nsamples = 204\\nvalue = [192, 12]'),\n",
       " Text(251.10000000000002, 163.07999999999998, 'X[11] <= 1.5\\ngini = 0.471\\nsamples = 1526\\nvalue = [946, 580]'),\n",
       " Text(209.25, 126.83999999999999, 'X[2] <= 143.5\\ngini = 0.499\\nsamples = 733\\nvalue = [383, 350]'),\n",
       " Text(188.32500000000002, 90.6, 'X[5] <= 6.5\\ngini = 0.476\\nsamples = 236\\nvalue = [92, 144]'),\n",
       " Text(177.8625, 54.359999999999985, 'X[7] <= 161.5\\ngini = 0.467\\nsamples = 43\\nvalue = [27, 16]'),\n",
       " Text(172.63125, 18.119999999999976, 'gini = 0.0\\nsamples = 3\\nvalue = [0, 3]'),\n",
       " Text(183.09375, 18.119999999999976, 'gini = 0.439\\nsamples = 40\\nvalue = [27, 13]'),\n",
       " Text(198.7875, 54.359999999999985, 'X[15] <= 8.25\\ngini = 0.447\\nsamples = 193\\nvalue = [65, 128]'),\n",
       " Text(193.55625, 18.119999999999976, 'gini = 0.481\\nsamples = 139\\nvalue = [56, 83]'),\n",
       " Text(204.01875, 18.119999999999976, 'gini = 0.278\\nsamples = 54\\nvalue = [9, 45]'),\n",
       " Text(230.175, 90.6, 'X[0] <= 69.5\\ngini = 0.485\\nsamples = 497\\nvalue = [291, 206]'),\n",
       " Text(219.7125, 54.359999999999985, 'X[17] <= 77.0\\ngini = 0.455\\nsamples = 311\\nvalue = [202, 109]'),\n",
       " Text(214.48125000000002, 18.119999999999976, 'gini = 0.43\\nsamples = 265\\nvalue = [182, 83]'),\n",
       " Text(224.94375, 18.119999999999976, 'gini = 0.491\\nsamples = 46\\nvalue = [20, 26]'),\n",
       " Text(240.63750000000002, 54.359999999999985, 'X[16] <= 20.902\\ngini = 0.499\\nsamples = 186\\nvalue = [89, 97]'),\n",
       " Text(235.40625, 18.119999999999976, 'gini = 0.278\\nsamples = 24\\nvalue = [4, 20]'),\n",
       " Text(245.86875, 18.119999999999976, 'gini = 0.499\\nsamples = 162\\nvalue = [85, 77]'),\n",
       " Text(292.95, 126.83999999999999, 'X[6] <= 3.85\\ngini = 0.412\\nsamples = 793\\nvalue = [563, 230]'),\n",
       " Text(272.02500000000003, 90.6, 'X[0] <= 71.5\\ngini = 0.492\\nsamples = 64\\nvalue = [28, 36]'),\n",
       " Text(261.5625, 54.359999999999985, 'X[5] <= 49.5\\ngini = 0.483\\nsamples = 44\\nvalue = [26, 18]'),\n",
       " Text(256.33125, 18.119999999999976, 'gini = 0.432\\nsamples = 38\\nvalue = [26, 12]'),\n",
       " Text(266.79375, 18.119999999999976, 'gini = 0.0\\nsamples = 6\\nvalue = [0, 6]'),\n",
       " Text(282.4875, 54.359999999999985, 'X[13] <= 499.5\\ngini = 0.18\\nsamples = 20\\nvalue = [2, 18]'),\n",
       " Text(277.25625, 18.119999999999976, 'gini = 0.1\\nsamples = 19\\nvalue = [1, 18]'),\n",
       " Text(287.71875, 18.119999999999976, 'gini = 0.0\\nsamples = 1\\nvalue = [1, 0]'),\n",
       " Text(313.875, 90.6, 'X[14] <= 21.55\\ngini = 0.391\\nsamples = 729\\nvalue = [535, 194]'),\n",
       " Text(303.4125, 54.359999999999985, 'X[1] <= 94.5\\ngini = 0.472\\nsamples = 178\\nvalue = [110, 68]'),\n",
       " Text(298.18125000000003, 18.119999999999976, 'gini = 0.435\\nsamples = 128\\nvalue = [87, 41]'),\n",
       " Text(308.64375, 18.119999999999976, 'gini = 0.497\\nsamples = 50\\nvalue = [23, 27]'),\n",
       " Text(324.33750000000003, 54.359999999999985, 'X[9] <= 1.675\\ngini = 0.353\\nsamples = 551\\nvalue = [425, 126]'),\n",
       " Text(319.10625, 18.119999999999976, 'gini = 0.431\\nsamples = 226\\nvalue = [155, 71]'),\n",
       " Text(329.56875, 18.119999999999976, 'gini = 0.281\\nsamples = 325\\nvalue = [270, 55]')]"
      ]
     },
     "execution_count": 30,
     "metadata": {},
     "output_type": "execute_result"
    },
    {
     "data": {
      "image/png": "[encoded data removed]",
      "text/plain": [
       "<Figure size 432x288 with 1 Axes>"
      ]
     },
     "metadata": {
      "needs_background": "light"
     },
     "output_type": "display_data"
    }
   ],
   "source": [
    "# plot tree\n",
    "\n",
    "tree.plot_tree(decision_tree_with_max_depth)"
   ]
  },
  {
   "cell_type": "markdown",
   "metadata": {},
   "source": []
  }
 ],
 "metadata": {
  "interpreter": {
   "hash": "f0a1ac669c489eee41d2a16ef74270caaab83f28daeaa178ac035f184048f5fa"
  },
  "kernelspec": {
   "display_name": "Python 3.8.3 64-bit ('ProtonX': conda)",
   "language": "python",
   "name": "python3"
  },
  "language_info": {
   "codemirror_mode": {
    "name": "ipython",
    "version": 3
   },
   "file_extension": ".py",
   "mimetype": "text/x-python",
   "name": "python",
   "nbconvert_exporter": "python",
   "pygments_lexer": "ipython3",
   "version": "3.8.3"
  },
  "orig_nbformat": 4
 },
 "nbformat": 4,
 "nbformat_minor": 2
}
