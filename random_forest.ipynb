{
 "cells": [
  {
   "cell_type": "code",
   "execution_count": 29,
   "metadata": {},
   "outputs": [],
   "source": [
    "from utils import load_data_from_csv, c_index\n",
    "from sklearn.model_selection import train_test_split \n",
    "from sklearn import tree\n",
    "from sklearn.ensemble import RandomForestClassifier\n",
    "import seaborn as sns\n",
    "import matplotlib.pyplot as plt\n",
    "import random\n",
    "from six import StringIO\n",
    "from sklearn.tree import export_graphviz\n",
    "from IPython.display import Image \n",
    "import pydotplus"
   ]
  },
  {
   "cell_type": "markdown",
   "metadata": {},
   "source": [
    "# Load dataset "
   ]
  },
  {
   "cell_type": "code",
   "execution_count": 30,
   "metadata": {},
   "outputs": [],
   "source": [
    "X_train_org, X_test, y_train_org, y_test = load_data_from_csv(threshold=10, test_size=0.2)"
   ]
  },
  {
   "cell_type": "code",
   "execution_count": 31,
   "metadata": {},
   "outputs": [
    {
     "name": "stdout",
     "output_type": "stream",
     "text": [
      "X_train shape: (6863, 18)\n",
      "X_test shape: (1716, 18)\n"
     ]
    }
   ],
   "source": [
    "print(\"X_train shape:\", X_train_org.shape)\n",
    "print(\"X_test shape:\", X_test.shape)"
   ]
  },
  {
   "cell_type": "code",
   "execution_count": 32,
   "metadata": {},
   "outputs": [],
   "source": [
    "X_train, X_val, y_train, y_val = train_test_split(X_train_org, y_train_org, test_size=0.25, random_state=42)"
   ]
  },
  {
   "cell_type": "code",
   "execution_count": 33,
   "metadata": {},
   "outputs": [
    {
     "name": "stdout",
     "output_type": "stream",
     "text": [
      "X_train shape: (5147, 18)\n",
      "X_val shape: (1716, 18)\n",
      "X_test shape: (1716, 18)\n"
     ]
    }
   ],
   "source": [
    "print(\"X_train shape:\", X_train.shape)\n",
    "print(\"X_val shape:\", X_val.shape)\n",
    "print(\"X_test shape:\", X_test.shape)"
   ]
  },
  {
   "cell_type": "markdown",
   "metadata": {},
   "source": [
    "# Random Forest "
   ]
  },
  {
   "cell_type": "code",
   "execution_count": 34,
   "metadata": {},
   "outputs": [
    {
     "data": {
      "text/plain": [
       "RandomForestClassifier(n_estimators=50, random_state=42)"
      ]
     },
     "execution_count": 34,
     "metadata": {},
     "output_type": "execute_result"
    }
   ],
   "source": [
    "random_forest_default = RandomForestClassifier(n_estimators=50, random_state=42)\n",
    "random_forest_default.fit(X_train, y_train)"
   ]
  },
  {
   "cell_type": "code",
   "execution_count": 45,
   "metadata": {},
   "outputs": [
    {
     "name": "stdout",
     "output_type": "stream",
     "text": [
      "C-index score for Random Forest: 1.0\n"
     ]
    }
   ],
   "source": [
    "# train C-index score\n",
    "y_train_predict = random_forest_default.predict_proba(X_train)[:, 1]\n",
    "print(\"C-index score for Random Forest:\", c_index(y_train, y_train_predict))"
   ]
  },
  {
   "cell_type": "code",
   "execution_count": 46,
   "metadata": {},
   "outputs": [
    {
     "name": "stdout",
     "output_type": "stream",
     "text": [
      "Validation C-index: 0.7370878013567458\n",
      "Test C-index: 0.7506640680431389\n"
     ]
    }
   ],
   "source": [
    "# validation\n",
    "y_pred_val = random_forest_default.predict_proba(X_val)[:, 1]\n",
    "print(\"Validation C-index:\", c_index(y_val, y_pred_val))\n",
    "\n",
    "# test\n",
    "y_pred_test = random_forest_default.predict_proba(X_test)[:, 1]\n",
    "print(\"Test C-index:\", c_index(y_test, y_pred_test))"
   ]
  },
  {
   "cell_type": "markdown",
   "metadata": {},
   "source": [
    "# Change hyperparameters"
   ]
  },
  {
   "cell_type": "code",
   "execution_count": 56,
   "metadata": {},
   "outputs": [
    {
     "name": "stdout",
     "output_type": "stream",
     "text": [
      "C-index score for Random Forest: 0.907367369725477\n"
     ]
    }
   ],
   "source": [
    "# train with hypertuning\n",
    "random_forest_hypertuning = RandomForestClassifier(n_estimators=50, max_depth=10, min_samples_leaf=10, random_state=42)\n",
    "random_forest_hypertuning.fit(X_train, y_train)\n",
    "\n",
    "\n",
    "# train C-index score\n",
    "y_train_predict = random_forest_hypertuning.predict_proba(X_train)[:, 1]\n",
    "print(\"C-index score for Random Forest:\", c_index(y_train, y_train_predict))"
   ]
  },
  {
   "cell_type": "code",
   "execution_count": 57,
   "metadata": {},
   "outputs": [
    {
     "name": "stdout",
     "output_type": "stream",
     "text": [
      "Validation C-index: 0.7625034442397509\n",
      "Test C-index: 0.7603856250886902\n"
     ]
    }
   ],
   "source": [
    "# validation c-index score\n",
    "y_pred_val = random_forest_hypertuning.predict_proba(X_val)[:, 1]\n",
    "print(\"Validation C-index:\", c_index(y_val, y_pred_val))\n",
    "\n",
    "# test c-index score\n",
    "y_pred_test = random_forest_hypertuning.predict_proba(X_test)[:, 1]\n",
    "print(\"Test C-index:\", c_index(y_test, y_pred_test))"
   ]
  }
 ],
 "metadata": {
  "interpreter": {
   "hash": "f0a1ac669c489eee41d2a16ef74270caaab83f28daeaa178ac035f184048f5fa"
  },
  "kernelspec": {
   "display_name": "Python 3.8.3 64-bit ('ProtonX': conda)",
   "language": "python",
   "name": "python3"
  },
  "language_info": {
   "codemirror_mode": {
    "name": "ipython",
    "version": 3
   },
   "file_extension": ".py",
   "mimetype": "text/x-python",
   "name": "python",
   "nbconvert_exporter": "python",
   "pygments_lexer": "ipython3",
   "version": "3.8.3"
  },
  "orig_nbformat": 4
 },
 "nbformat": 4,
 "nbformat_minor": 2
}
