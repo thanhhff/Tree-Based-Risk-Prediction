{
 "cells": [
  {
   "cell_type": "code",
   "execution_count": 39,
   "metadata": {},
   "outputs": [],
   "source": [
    "import os \n",
    "import numpy as np\n",
    "import pandas as pd\n",
    "from sklearn.model_selection import train_test_split "
   ]
  },
  {
   "cell_type": "code",
   "execution_count": 40,
   "metadata": {},
   "outputs": [],
   "source": [
    "def load_data_from_csv(threshold, test_size=0.2):\n",
    "    \"\"\"\n",
    "    Loads data from csv file and returns data is available for the threshold\n",
    "    threshold: int (number of years)\n",
    "    \"\"\"\n",
    "    X = pd.read_csv('data/NHANESI_subset_X.csv', index_col=0)\n",
    "    y = np.array(pd.read_csv('data/NHANESI_subset_y.csv')['y'])\n",
    "\n",
    "    df = X.copy()\n",
    "    # Create a column for the year\n",
    "    df.loc[:, 'time'] = y\n",
    "    # Check the people who death or not\n",
    "    df.loc[:, 'death'] = np.ones(len(X))\n",
    "    df.loc[df.time < 0, 'death'] = 0\n",
    "    df.loc[:, 'time'] = np.abs(df.time)\n",
    "    df = df.dropna(axis='rows')\n",
    "    mask = (df.time > threshold) | (df.death == 1)\n",
    "    df = df[mask]\n",
    "    X = df.drop(['time', 'death'], axis='columns')\n",
    "    y = df.time < threshold\n",
    "\n",
    "    X_train, X_test, y_train, y_test = train_test_split(X, y, test_size=test_size, random_state=42)\n",
    "\n",
    "    return X_train, X_test, y_train, y_test"
   ]
  },
  {
   "cell_type": "code",
   "execution_count": 41,
   "metadata": {},
   "outputs": [],
   "source": [
    "X_train, X_test, y_train, y_test = load_data_from_csv(threshold=10)"
   ]
  },
  {
   "cell_type": "code",
   "execution_count": 43,
   "metadata": {},
   "outputs": [
    {
     "data": {
      "text/plain": [
       "7539    False\n",
       "9311    False\n",
       "58       True\n",
       "8039    False\n",
       "8008    False\n",
       "        ...  \n",
       "7044    False\n",
       "6487     True\n",
       "6695    False\n",
       "887     False\n",
       "8605    False\n",
       "Name: time, Length: 6863, dtype: bool"
      ]
     },
     "execution_count": 43,
     "metadata": {},
     "output_type": "execute_result"
    }
   ],
   "source": [
    "y_train"
   ]
  },
  {
   "cell_type": "code",
   "execution_count": null,
   "metadata": {},
   "outputs": [],
   "source": []
  }
 ],
 "metadata": {
  "interpreter": {
   "hash": "f0a1ac669c489eee41d2a16ef74270caaab83f28daeaa178ac035f184048f5fa"
  },
  "kernelspec": {
   "display_name": "Python 3.8.3 64-bit ('ProtonX': conda)",
   "language": "python",
   "name": "python3"
  },
  "language_info": {
   "codemirror_mode": {
    "name": "ipython",
    "version": 3
   },
   "file_extension": ".py",
   "mimetype": "text/x-python",
   "name": "python",
   "nbconvert_exporter": "python",
   "pygments_lexer": "ipython3",
   "version": "3.8.3"
  },
  "orig_nbformat": 4
 },
 "nbformat": 4,
 "nbformat_minor": 2
}
